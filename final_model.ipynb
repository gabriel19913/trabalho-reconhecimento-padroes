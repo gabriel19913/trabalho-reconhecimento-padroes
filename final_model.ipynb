{
  "nbformat": 4,
  "nbformat_minor": 0,
  "metadata": {
    "colab": {
      "name": "final_model4.ipynb",
      "version": "0.3.2",
      "provenance": [],
      "collapsed_sections": [],
      "toc_visible": true
    },
    "kernelspec": {
      "name": "python3",
      "display_name": "Python 3"
    },
    "accelerator": "GPU"
  },
  "cells": [
    {
      "cell_type": "markdown",
      "metadata": {
        "id": "vwhJXpExbmjJ",
        "colab_type": "text"
      },
      "source": [
        "# Pré-processamento dos dados"
      ]
    },
    {
      "cell_type": "markdown",
      "metadata": {
        "id": "rGH1n9I3gd3U",
        "colab_type": "text"
      },
      "source": [
        "## Declaração de bibliotecas e funções"
      ]
    },
    {
      "cell_type": "code",
      "metadata": {
        "id": "IS9Flnwzx4eV",
        "colab_type": "code",
        "colab": {
          "base_uri": "https://localhost:8080/",
          "height": 121
        },
        "outputId": "8661481b-d970-4637-ffba-16aa1945f0ac"
      },
      "source": [
        "from google.colab import drive\n",
        "drive.mount('/content/gdrive')\n",
        "root_path = 'gdrive/My Drive/Mestrado/Reconhecimento de Padrões/Trabalho Final/'"
      ],
      "execution_count": 1,
      "outputs": [
        {
          "output_type": "stream",
          "text": [
            "Go to this URL in a browser: https://accounts.google.com/o/oauth2/auth?client_id=947318989803-6bn6qk8qdgf4n4g3pfee6491hc0brc4i.apps.googleusercontent.com&redirect_uri=urn%3Aietf%3Awg%3Aoauth%3A2.0%3Aoob&scope=email%20https%3A%2F%2Fwww.googleapis.com%2Fauth%2Fdocs.test%20https%3A%2F%2Fwww.googleapis.com%2Fauth%2Fdrive%20https%3A%2F%2Fwww.googleapis.com%2Fauth%2Fdrive.photos.readonly%20https%3A%2F%2Fwww.googleapis.com%2Fauth%2Fpeopleapi.readonly&response_type=code\n",
            "\n",
            "Enter your authorization code:\n",
            "··········\n",
            "Mounted at /content/gdrive\n"
          ],
          "name": "stdout"
        }
      ]
    },
    {
      "cell_type": "code",
      "metadata": {
        "id": "uSN2l24Iy3UV",
        "colab_type": "code",
        "colab": {}
      },
      "source": [
        "import scipy.io\n",
        "from os import listdir\n",
        "from os.path import isfile, join\n",
        "from pprint import pprint\n",
        "import pandas as pd\n",
        "import numpy as np\n",
        "import seaborn as sns\n",
        "import matplotlib.pyplot as plt\n",
        "from scipy import signal\n",
        "from sklearn.preprocessing import MinMaxScaler, StandardScaler, scale\n",
        "from sklearn.preprocessing import LabelEncoder\n",
        "from sklearn import preprocessing\n",
        "from numpy import genfromtxt\n",
        "\n",
        "from sklearn.metrics import confusion_matrix, accuracy_score, precision_score, recall_score, f1_score\n",
        "import matplotlib.pyplot as plt\n",
        "import seaborn as sns"
      ],
      "execution_count": 0,
      "outputs": []
    },
    {
      "cell_type": "code",
      "metadata": {
        "id": "VuyK-Ts7p4WY",
        "colab_type": "code",
        "colab": {}
      },
      "source": [
        "def cm_analysis(y_true, y_pred, filename, labels, ymap=None, figsize=(10,10)):\n",
        "  # Function by hitvoice\n",
        "  # https://gist.github.com/hitvoice/36cf44689065ca9b927431546381a3f7\n",
        "  \"\"\"\n",
        "  Generate matrix plot of confusion matrix with pretty annotations.\n",
        "  The plot image is saved to disk.\n",
        "  args: \n",
        "  y_true:    true label of the data, with shape (nsamples,)\n",
        "  y_pred:    prediction of the data, with shape (nsamples,)\n",
        "  filename:  filename of figure file to save\n",
        "  labels:    string array, name the order of class labels in the confusion matrix.\n",
        "             use `clf.classes_` if using scikit-learn models.\n",
        "             with shape (nclass,).\n",
        "  ymap:      dict: any -> string, length == nclass.\n",
        "             if not None, map the labels & ys to more understandable strings.\n",
        "             Caution: original y_true, y_pred and labels must align.\n",
        "  figsize:   the size of the figure plotted.\n",
        "  \"\"\"\n",
        "  if ymap is not None:\n",
        "    y_pred = [ymap[yi] for yi in y_pred]\n",
        "    y_true = [ymap[yi] for yi in y_true]\n",
        "    labels = [ymap[yi] for yi in labels]\n",
        "  cm = confusion_matrix(y_true, y_pred, labels=labels)\n",
        "  cm_sum = np.sum(cm, axis=1, keepdims=True)\n",
        "  cm_perc = cm / cm_sum.astype(float) * 100\n",
        "  annot = np.empty_like(cm).astype(str)\n",
        "  nrows, ncols = cm.shape\n",
        "  for i in range(nrows):\n",
        "      for j in range(ncols):\n",
        "          c = cm[i, j]\n",
        "          p = cm_perc[i, j]\n",
        "          if i == j:\n",
        "              s = cm_sum[i]\n",
        "              annot[i, j] = '%.1f%%\\n%d/%d' % (p, c, s)\n",
        "          elif c == 0:\n",
        "              annot[i, j] = ''\n",
        "          else:\n",
        "              annot[i, j] = '%.1f%%\\n%d' % (p, c)\n",
        "  cm = pd.DataFrame(cm, index=labels, columns=labels)\n",
        "  cm.index.name = 'Actual'\n",
        "  cm.columns.name = 'Predicted'\n",
        "  fig, ax = plt.subplots(figsize=figsize)\n",
        "  sns.heatmap(cm, annot=annot, fmt='', ax=ax)\n",
        "  plt.savefig(filename)"
      ],
      "execution_count": 0,
      "outputs": []
    },
    {
      "cell_type": "code",
      "metadata": {
        "id": "hV87mGuKmjv8",
        "colab_type": "code",
        "colab": {}
      },
      "source": [
        "X = genfromtxt(r'gdrive/My Drive/Mestrado/Reconhecimento de Padrões/Trabalho Final/features.csv', delimiter=',')\n",
        "y = genfromtxt(r'gdrive/My Drive/Mestrado/Reconhecimento de Padrões/Trabalho Final/target.csv', delimiter=',', dtype='<U3')"
      ],
      "execution_count": 0,
      "outputs": []
    },
    {
      "cell_type": "code",
      "metadata": {
        "id": "Zpn911-KjNhL",
        "colab_type": "code",
        "colab": {}
      },
      "source": [
        "scaler = MinMaxScaler(feature_range=(-1, 1))\n",
        "X = scaler.fit_transform(X)"
      ],
      "execution_count": 0,
      "outputs": []
    },
    {
      "cell_type": "markdown",
      "metadata": {
        "id": "m2TMBgyrt_e5",
        "colab_type": "text"
      },
      "source": [
        "# Random Forest"
      ]
    },
    {
      "cell_type": "code",
      "metadata": {
        "id": "4cR0RiKtt9hZ",
        "colab_type": "code",
        "colab": {}
      },
      "source": [
        "from sklearn.ensemble import RandomForestClassifier\n",
        "from sklearn.model_selection import StratifiedKFold\n",
        "from sklearn.metrics import accuracy_score\n",
        "from sklearn.model_selection import train_test_split"
      ],
      "execution_count": 0,
      "outputs": []
    },
    {
      "cell_type": "code",
      "metadata": {
        "id": "74PLLwvfWdCc",
        "colab_type": "code",
        "colab": {}
      },
      "source": [
        "X_train, X_test, y_train, y_test = train_test_split(X, y, test_size=0.1)\n",
        "X_train, X_val, y_train, y_val = train_test_split(X_train, y_train, test_size=0.1105)"
      ],
      "execution_count": 0,
      "outputs": []
    },
    {
      "cell_type": "code",
      "metadata": {
        "id": "DtWKHWLE0pvJ",
        "colab_type": "code",
        "outputId": "dc199637-cf8d-4d33-ec12-1154a6bc498c",
        "colab": {
          "base_uri": "https://localhost:8080/",
          "height": 101
        }
      },
      "source": [
        "kf = StratifiedKFold(n_splits=10, shuffle=True)\n",
        "scores = []\n",
        "final_scores = []\n",
        "\n",
        "for train, test in kf.split(X_train, y_train):\n",
        "  for i in range(10):\n",
        "    rf = RandomForestClassifier(n_estimators = 50, max_depth = 20, min_samples_split = 2,\n",
        "                                min_samples_leaf = 5, bootstrap = False, criterion = 'entropy')\n",
        "    rf.fit(X_train, y_train)\n",
        "    y_pred = rf.predict(X_val)\n",
        "    scores.append(accuracy_score(y_pred, y_val))\n",
        "  final_scores.append(sum(scores)/len(scores))\n",
        "\n",
        "final_scores = np.array(final_scores)\n",
        "print(f'Acurácia média para cada fold repetido 10 vezes\\n: {np.round(final_scores * 100, decimals=2)}')\n",
        "print(f'\\nMédia da acurácia: {np.mean(final_scores) * 100:.2f}%')\n",
        "print(f'Desvio padrão da acurácia: {np.std(final_scores) * 100:.2f}%)')"
      ],
      "execution_count": 42,
      "outputs": [
        {
          "output_type": "stream",
          "text": [
            "Acurácia média para cada fold repetido 10 vezes\n",
            ": [88.94 88.72 88.83 88.96 88.89 88.92 88.94 88.88 88.85 88.86]\n",
            "\n",
            "Média da acurácia: 88.88%\n",
            "Desvio padrão da acurácia: 0.07%)\n"
          ],
          "name": "stdout"
        }
      ]
    },
    {
      "cell_type": "code",
      "metadata": {
        "id": "Xm-TQ-iG36iT",
        "colab_type": "code",
        "colab": {}
      },
      "source": [
        "rf = RandomForestClassifier(n_estimators = 50, max_depth = 20, min_samples_split = 2,\n",
        "                            min_samples_leaf = 5, bootstrap = False, criterion = 'entropy')\n",
        "rf.fit(X_train, y_train.ravel())\n",
        "y_pred = rf.predict(X_test)"
      ],
      "execution_count": 0,
      "outputs": []
    },
    {
      "cell_type": "code",
      "metadata": {
        "id": "FAFpTwQ9p820",
        "colab_type": "code",
        "outputId": "369f33d0-5050-43c4-b2d1-b5d541d8d56e",
        "colab": {
          "base_uri": "https://localhost:8080/",
          "height": 609
        }
      },
      "source": [
        "cm_analysis(y_test, y_pred, 'cm_rf.eps', rf.classes_, figsize=(10,10))"
      ],
      "execution_count": 76,
      "outputs": [
        {
          "output_type": "display_data",
          "data": {
            "image/png": "[encoded data removed]",
            "text/plain": [
              "<Figure size 720x720 with 2 Axes>"
            ]
          },
          "metadata": {
            "tags": []
          }
        }
      ]
    },
    {
      "cell_type": "markdown",
      "metadata": {
        "id": "ny7vvdz4uyc6",
        "colab_type": "text"
      },
      "source": [
        "# Rede MLP"
      ]
    },
    {
      "cell_type": "code",
      "metadata": {
        "id": "Z-TRrmGD4TQM",
        "colab_type": "code",
        "colab": {}
      },
      "source": [
        "from sklearn.preprocessing import LabelEncoder\n",
        "from sklearn.preprocessing import OneHotEncoder\n",
        "from keras.callbacks import ModelCheckpoint\n",
        "from keras.layers import Dense, Dropout\n",
        "from keras.models import Sequential\n",
        "from keras import initializers\n",
        "from keras.callbacks import EarlyStopping\n",
        "from keras.optimizers import Adagrad\n",
        "from keras.utils import to_categorical"
      ],
      "execution_count": 0,
      "outputs": []
    },
    {
      "cell_type": "code",
      "metadata": {
        "id": "bhhXh_VkwEh_",
        "colab_type": "code",
        "colab": {}
      },
      "source": [
        "label_encoder = LabelEncoder()\n",
        "label_encoder.fit(y.ravel())\n",
        "y_train_integer = label_encoder.fit_transform(y_train.ravel())\n",
        "y_test_integer = label_encoder.fit_transform(y_test.ravel())\n",
        "y_val_integer = label_encoder.fit_transform(y_val.ravel())"
      ],
      "execution_count": 0,
      "outputs": []
    },
    {
      "cell_type": "code",
      "metadata": {
        "id": "butOje0fwlfn",
        "colab_type": "code",
        "colab": {}
      },
      "source": [
        "onehot_encoder = OneHotEncoder(sparse=False, categories='auto')\n",
        "y_train_onehot = onehot_encoder.fit_transform(y_train_integer.reshape(len(y_train_integer), 1))\n",
        "y_test_onehot = onehot_encoder.fit_transform(y_test_integer.reshape(len(y_test_integer), 1))\n",
        "y_val_onehot = onehot_encoder.fit_transform(y_val_integer.reshape(len(y_val_integer), 1))"
      ],
      "execution_count": 0,
      "outputs": []
    },
    {
      "cell_type": "code",
      "metadata": {
        "id": "Bpo0yroUgY7n",
        "colab_type": "code",
        "outputId": "229db647-ca36-4c8b-ab18-82ab8e65ba02",
        "colab": {
          "base_uri": "https://localhost:8080/",
          "height": 34
        }
      },
      "source": [
        "y_train_onehot.shape"
      ],
      "execution_count": 31,
      "outputs": [
        {
          "output_type": "execute_result",
          "data": {
            "text/plain": [
              "(751, 10)"
            ]
          },
          "metadata": {
            "tags": []
          },
          "execution_count": 31
        }
      ]
    },
    {
      "cell_type": "code",
      "metadata": {
        "id": "RYNHDVo8qW8O",
        "colab_type": "code",
        "outputId": "e71f2ac1-0999-4c74-8302-e92a81fd7dae",
        "colab": {
          "base_uri": "https://localhost:8080/",
          "height": 9828
        }
      },
      "source": [
        "init = initializers.glorot_normal()\n",
        "model = Sequential()\n",
        "model.add(Dense(384, activation = 'relu', input_dim = X_train.shape[1],\n",
        "                kernel_initializer = init, bias_initializer = init))\n",
        "model.add(Dropout(0.2))\n",
        "model.add(Dense(10, activation = 'softmax', \n",
        "                kernel_initializer = init, bias_initializer = init))\n",
        "opt = Adagrad(lr=0.01, epsilon=None, decay=0.0)\n",
        "model.compile(loss='categorical_crossentropy', optimizer = opt, metrics=['accuracy'])\n",
        "stop = EarlyStopping(monitor = 'val_loss', mode = 'min', verbose=1, patience=50)\n",
        "history = model.fit(X_train, y_train_onehot, validation_data = (X_val, y_val_onehot), shuffle=True, batch_size = 50, \n",
        "          epochs = 5000, verbose = 1, callbacks=[stop])"
      ],
      "execution_count": 45,
      "outputs": [
        {
          "output_type": "stream",
          "text": [
            "Train on 751 samples, validate on 94 samples\n",
            "Epoch 1/5000\n",
            "751/751 [==============================] - 28s 37ms/step - loss: 2.0109 - acc: 0.3409 - val_loss: 1.9179 - val_acc: 0.2872\n",
            "Epoch 2/5000\n",
            "751/751 [==============================] - 0s 132us/step - loss: 1.4778 - acc: 0.5300 - val_loss: 1.8363 - val_acc: 0.2872\n",
            "Epoch 3/5000\n",
            "751/751 [==============================] - 0s 124us/step - loss: 1.2997 - acc: 0.5859 - val_loss: 1.4719 - val_acc: 0.5745\n",
            "Epoch 4/5000\n",
            "751/751 [==============================] - 0s 123us/step - loss: 1.1598 - acc: 0.6551 - val_loss: 1.5593 - val_acc: 0.4043\n",
            "Epoch 5/5000\n",
            "751/751 [==============================] - 0s 127us/step - loss: 1.1084 - acc: 0.6498 - val_loss: 1.4032 - val_acc: 0.4574\n",
            "Epoch 6/5000\n",
            "751/751 [==============================] - 0s 129us/step - loss: 1.0312 - acc: 0.7111 - val_loss: 1.3651 - val_acc: 0.5213\n",
            "Epoch 7/5000\n",
            "751/751 [==============================] - 0s 128us/step - loss: 0.9740 - acc: 0.7124 - val_loss: 1.2838 - val_acc: 0.6383\n",
            "Epoch 8/5000\n",
            "751/751 [==============================] - 0s 122us/step - loss: 0.9155 - acc: 0.7617 - val_loss: 1.2214 - val_acc: 0.6064\n",
            "Epoch 9/5000\n",
            "751/751 [==============================] - 0s 125us/step - loss: 0.8719 - acc: 0.7617 - val_loss: 1.2086 - val_acc: 0.5638\n",
            "Epoch 10/5000\n",
            "751/751 [==============================] - 0s 129us/step - loss: 0.8402 - acc: 0.7656 - val_loss: 1.4038 - val_acc: 0.5532\n",
            "Epoch 11/5000\n",
            "751/751 [==============================] - 0s 124us/step - loss: 0.8582 - acc: 0.7590 - val_loss: 1.1045 - val_acc: 0.6809\n",
            "Epoch 12/5000\n",
            "751/751 [==============================] - 0s 126us/step - loss: 0.7538 - acc: 0.8202 - val_loss: 1.1405 - val_acc: 0.6170\n",
            "Epoch 13/5000\n",
            "751/751 [==============================] - 0s 122us/step - loss: 0.7579 - acc: 0.7883 - val_loss: 1.0740 - val_acc: 0.6809\n",
            "Epoch 14/5000\n",
            "751/751 [==============================] - 0s 120us/step - loss: 0.7755 - acc: 0.8003 - val_loss: 1.0057 - val_acc: 0.7128\n",
            "Epoch 15/5000\n",
            "751/751 [==============================] - 0s 117us/step - loss: 0.6963 - acc: 0.8362 - val_loss: 1.0094 - val_acc: 0.6809\n",
            "Epoch 16/5000\n",
            "751/751 [==============================] - 0s 130us/step - loss: 0.6855 - acc: 0.8575 - val_loss: 1.0423 - val_acc: 0.7021\n",
            "Epoch 17/5000\n",
            "751/751 [==============================] - 0s 119us/step - loss: 0.6544 - acc: 0.8389 - val_loss: 1.0353 - val_acc: 0.6915\n",
            "Epoch 18/5000\n",
            "751/751 [==============================] - 0s 119us/step - loss: 0.6592 - acc: 0.8549 - val_loss: 0.9352 - val_acc: 0.7553\n",
            "Epoch 19/5000\n",
            "751/751 [==============================] - 0s 120us/step - loss: 0.6221 - acc: 0.8668 - val_loss: 0.9439 - val_acc: 0.7660\n",
            "Epoch 20/5000\n",
            "751/751 [==============================] - 0s 123us/step - loss: 0.6102 - acc: 0.8735 - val_loss: 0.9769 - val_acc: 0.7021\n",
            "Epoch 21/5000\n",
            "751/751 [==============================] - 0s 125us/step - loss: 0.6160 - acc: 0.8282 - val_loss: 0.9815 - val_acc: 0.7021\n",
            "Epoch 22/5000\n",
            "751/751 [==============================] - 0s 121us/step - loss: 0.6262 - acc: 0.8216 - val_loss: 0.9271 - val_acc: 0.7234\n",
            "Epoch 23/5000\n",
            "751/751 [==============================] - 0s 120us/step - loss: 0.6093 - acc: 0.8562 - val_loss: 0.8870 - val_acc: 0.7553\n",
            "Epoch 24/5000\n",
            "751/751 [==============================] - 0s 124us/step - loss: 0.5687 - acc: 0.8802 - val_loss: 0.8944 - val_acc: 0.7660\n",
            "Epoch 25/5000\n",
            "751/751 [==============================] - 0s 123us/step - loss: 0.5577 - acc: 0.8735 - val_loss: 0.8936 - val_acc: 0.7872\n",
            "Epoch 26/5000\n",
            "751/751 [==============================] - 0s 131us/step - loss: 0.5509 - acc: 0.8748 - val_loss: 0.9290 - val_acc: 0.7553\n",
            "Epoch 27/5000\n",
            "751/751 [==============================] - 0s 137us/step - loss: 0.5309 - acc: 0.8762 - val_loss: 0.8545 - val_acc: 0.7553\n",
            "Epoch 28/5000\n",
            "751/751 [==============================] - 0s 124us/step - loss: 0.5203 - acc: 0.8855 - val_loss: 0.8425 - val_acc: 0.7660\n",
            "Epoch 29/5000\n",
            "751/751 [==============================] - 0s 124us/step - loss: 0.5087 - acc: 0.8868 - val_loss: 0.8310 - val_acc: 0.7979\n",
            "Epoch 30/5000\n",
            "751/751 [==============================] - 0s 122us/step - loss: 0.4969 - acc: 0.8988 - val_loss: 0.8117 - val_acc: 0.8191\n",
            "Epoch 31/5000\n",
            "751/751 [==============================] - 0s 123us/step - loss: 0.4838 - acc: 0.9068 - val_loss: 0.8289 - val_acc: 0.7553\n",
            "Epoch 32/5000\n",
            "751/751 [==============================] - 0s 126us/step - loss: 0.4806 - acc: 0.9028 - val_loss: 0.8063 - val_acc: 0.7872\n",
            "Epoch 33/5000\n",
            "751/751 [==============================] - 0s 123us/step - loss: 0.4740 - acc: 0.8988 - val_loss: 0.7978 - val_acc: 0.7766\n",
            "Epoch 34/5000\n",
            "751/751 [==============================] - 0s 129us/step - loss: 0.4664 - acc: 0.8948 - val_loss: 0.9401 - val_acc: 0.6915\n",
            "Epoch 35/5000\n",
            "751/751 [==============================] - 0s 120us/step - loss: 0.4857 - acc: 0.9015 - val_loss: 0.8882 - val_acc: 0.7234\n",
            "Epoch 36/5000\n",
            "751/751 [==============================] - 0s 121us/step - loss: 0.4807 - acc: 0.8855 - val_loss: 0.7859 - val_acc: 0.7979\n",
            "Epoch 37/5000\n",
            "751/751 [==============================] - 0s 121us/step - loss: 0.4544 - acc: 0.9108 - val_loss: 0.7697 - val_acc: 0.8085\n",
            "Epoch 38/5000\n",
            "751/751 [==============================] - 0s 132us/step - loss: 0.4653 - acc: 0.9055 - val_loss: 0.7800 - val_acc: 0.8085\n",
            "Epoch 39/5000\n",
            "751/751 [==============================] - 0s 121us/step - loss: 0.4629 - acc: 0.9068 - val_loss: 0.7594 - val_acc: 0.8191\n",
            "Epoch 40/5000\n",
            "751/751 [==============================] - 0s 125us/step - loss: 0.4354 - acc: 0.9254 - val_loss: 0.7431 - val_acc: 0.8298\n",
            "Epoch 41/5000\n",
            "751/751 [==============================] - 0s 125us/step - loss: 0.4295 - acc: 0.9254 - val_loss: 0.8057 - val_acc: 0.7340\n",
            "Epoch 42/5000\n",
            "751/751 [==============================] - 0s 119us/step - loss: 0.4365 - acc: 0.8722 - val_loss: 0.7613 - val_acc: 0.7766\n",
            "Epoch 43/5000\n",
            "751/751 [==============================] - 0s 120us/step - loss: 0.4308 - acc: 0.9134 - val_loss: 0.7154 - val_acc: 0.7872\n",
            "Epoch 44/5000\n",
            "751/751 [==============================] - 0s 117us/step - loss: 0.4254 - acc: 0.9108 - val_loss: 0.7133 - val_acc: 0.8085\n",
            "Epoch 45/5000\n",
            "751/751 [==============================] - 0s 123us/step - loss: 0.4094 - acc: 0.9108 - val_loss: 0.6860 - val_acc: 0.8298\n",
            "Epoch 46/5000\n",
            "751/751 [==============================] - 0s 121us/step - loss: 0.4063 - acc: 0.9188 - val_loss: 0.6870 - val_acc: 0.8298\n",
            "Epoch 47/5000\n",
            "751/751 [==============================] - 0s 119us/step - loss: 0.4010 - acc: 0.9148 - val_loss: 0.6767 - val_acc: 0.8298\n",
            "Epoch 48/5000\n",
            "751/751 [==============================] - 0s 116us/step - loss: 0.3850 - acc: 0.9241 - val_loss: 0.6822 - val_acc: 0.8298\n",
            "Epoch 49/5000\n",
            "751/751 [==============================] - 0s 131us/step - loss: 0.3966 - acc: 0.9281 - val_loss: 0.6933 - val_acc: 0.8085\n",
            "Epoch 50/5000\n",
            "751/751 [==============================] - 0s 121us/step - loss: 0.3832 - acc: 0.9108 - val_loss: 0.7766 - val_acc: 0.7553\n",
            "Epoch 51/5000\n",
            "751/751 [==============================] - 0s 123us/step - loss: 0.3874 - acc: 0.9268 - val_loss: 0.7035 - val_acc: 0.8191\n",
            "Epoch 52/5000\n",
            "751/751 [==============================] - 0s 118us/step - loss: 0.3928 - acc: 0.9348 - val_loss: 0.8719 - val_acc: 0.7766\n",
            "Epoch 53/5000\n",
            "751/751 [==============================] - 0s 123us/step - loss: 0.4731 - acc: 0.8908 - val_loss: 0.7319 - val_acc: 0.7979\n",
            "Epoch 54/5000\n",
            "751/751 [==============================] - 0s 121us/step - loss: 0.3942 - acc: 0.9214 - val_loss: 0.7120 - val_acc: 0.7979\n",
            "Epoch 55/5000\n",
            "751/751 [==============================] - 0s 125us/step - loss: 0.3901 - acc: 0.9095 - val_loss: 0.6837 - val_acc: 0.8191\n",
            "Epoch 56/5000\n",
            "751/751 [==============================] - 0s 122us/step - loss: 0.3759 - acc: 0.9228 - val_loss: 0.6722 - val_acc: 0.8298\n",
            "Epoch 57/5000\n",
            "751/751 [==============================] - 0s 125us/step - loss: 0.3752 - acc: 0.9228 - val_loss: 0.7008 - val_acc: 0.7660\n",
            "Epoch 58/5000\n",
            "751/751 [==============================] - 0s 119us/step - loss: 0.3889 - acc: 0.8935 - val_loss: 0.6610 - val_acc: 0.8404\n",
            "Epoch 59/5000\n",
            "751/751 [==============================] - 0s 120us/step - loss: 0.3536 - acc: 0.9374 - val_loss: 0.7067 - val_acc: 0.7660\n",
            "Epoch 60/5000\n",
            "751/751 [==============================] - 0s 132us/step - loss: 0.3713 - acc: 0.9028 - val_loss: 0.6993 - val_acc: 0.8191\n",
            "Epoch 61/5000\n",
            "751/751 [==============================] - 0s 119us/step - loss: 0.3556 - acc: 0.9294 - val_loss: 0.6669 - val_acc: 0.8298\n",
            "Epoch 62/5000\n",
            "751/751 [==============================] - 0s 122us/step - loss: 0.3556 - acc: 0.9241 - val_loss: 0.7580 - val_acc: 0.8298\n",
            "Epoch 63/5000\n",
            "751/751 [==============================] - 0s 120us/step - loss: 0.3606 - acc: 0.9281 - val_loss: 0.6994 - val_acc: 0.8511\n",
            "Epoch 64/5000\n",
            "751/751 [==============================] - 0s 121us/step - loss: 0.3472 - acc: 0.9308 - val_loss: 0.8640 - val_acc: 0.7553\n",
            "Epoch 65/5000\n",
            "751/751 [==============================] - 0s 122us/step - loss: 0.3878 - acc: 0.9095 - val_loss: 0.6709 - val_acc: 0.8404\n",
            "Epoch 66/5000\n",
            "751/751 [==============================] - 0s 122us/step - loss: 0.3451 - acc: 0.9387 - val_loss: 0.7780 - val_acc: 0.7660\n",
            "Epoch 67/5000\n",
            "751/751 [==============================] - 0s 122us/step - loss: 0.3825 - acc: 0.9254 - val_loss: 0.7022 - val_acc: 0.7872\n",
            "Epoch 68/5000\n",
            "751/751 [==============================] - 0s 119us/step - loss: 0.3599 - acc: 0.9121 - val_loss: 0.6487 - val_acc: 0.8191\n",
            "Epoch 69/5000\n",
            "751/751 [==============================] - 0s 125us/step - loss: 0.3420 - acc: 0.9374 - val_loss: 0.6370 - val_acc: 0.8404\n",
            "Epoch 70/5000\n",
            "751/751 [==============================] - 0s 121us/step - loss: 0.3311 - acc: 0.9374 - val_loss: 0.6419 - val_acc: 0.8191\n",
            "Epoch 71/5000\n",
            "751/751 [==============================] - 0s 132us/step - loss: 0.3255 - acc: 0.9281 - val_loss: 0.6193 - val_acc: 0.8298\n",
            "Epoch 72/5000\n",
            "751/751 [==============================] - 0s 127us/step - loss: 0.3139 - acc: 0.9481 - val_loss: 0.6223 - val_acc: 0.8404\n",
            "Epoch 73/5000\n",
            "751/751 [==============================] - 0s 127us/step - loss: 0.3196 - acc: 0.9414 - val_loss: 0.6653 - val_acc: 0.8404\n",
            "Epoch 74/5000\n",
            "751/751 [==============================] - 0s 124us/step - loss: 0.3286 - acc: 0.9387 - val_loss: 0.7019 - val_acc: 0.7766\n",
            "Epoch 75/5000\n",
            "751/751 [==============================] - 0s 123us/step - loss: 0.3328 - acc: 0.9334 - val_loss: 0.6349 - val_acc: 0.8404\n",
            "Epoch 76/5000\n",
            "751/751 [==============================] - 0s 117us/step - loss: 0.3109 - acc: 0.9427 - val_loss: 0.6247 - val_acc: 0.8511\n",
            "Epoch 77/5000\n",
            "751/751 [==============================] - 0s 119us/step - loss: 0.3119 - acc: 0.9441 - val_loss: 0.6579 - val_acc: 0.8617\n",
            "Epoch 78/5000\n",
            "751/751 [==============================] - 0s 120us/step - loss: 0.3340 - acc: 0.9414 - val_loss: 0.6383 - val_acc: 0.8404\n",
            "Epoch 79/5000\n",
            "751/751 [==============================] - 0s 120us/step - loss: 0.3220 - acc: 0.9334 - val_loss: 0.6302 - val_acc: 0.8404\n",
            "Epoch 80/5000\n",
            "751/751 [==============================] - 0s 123us/step - loss: 0.3040 - acc: 0.9454 - val_loss: 0.6221 - val_acc: 0.8404\n",
            "Epoch 81/5000\n",
            "751/751 [==============================] - 0s 119us/step - loss: 0.2985 - acc: 0.9481 - val_loss: 0.6337 - val_acc: 0.8191\n",
            "Epoch 82/5000\n",
            "751/751 [==============================] - 0s 127us/step - loss: 0.3048 - acc: 0.9254 - val_loss: 0.6126 - val_acc: 0.8404\n",
            "Epoch 83/5000\n",
            "751/751 [==============================] - 0s 127us/step - loss: 0.3120 - acc: 0.9308 - val_loss: 0.6110 - val_acc: 0.8298\n",
            "Epoch 84/5000\n",
            "751/751 [==============================] - 0s 121us/step - loss: 0.2891 - acc: 0.9547 - val_loss: 0.6121 - val_acc: 0.8298\n",
            "Epoch 85/5000\n",
            "751/751 [==============================] - 0s 120us/step - loss: 0.2886 - acc: 0.9467 - val_loss: 0.6110 - val_acc: 0.8191\n",
            "Epoch 86/5000\n",
            "751/751 [==============================] - 0s 118us/step - loss: 0.2922 - acc: 0.9507 - val_loss: 0.6094 - val_acc: 0.8191\n",
            "Epoch 87/5000\n",
            "751/751 [==============================] - 0s 121us/step - loss: 0.2870 - acc: 0.9348 - val_loss: 0.6003 - val_acc: 0.8191\n",
            "Epoch 88/5000\n",
            "751/751 [==============================] - 0s 123us/step - loss: 0.2844 - acc: 0.9521 - val_loss: 0.6086 - val_acc: 0.8191\n",
            "Epoch 89/5000\n",
            "751/751 [==============================] - 0s 123us/step - loss: 0.2903 - acc: 0.9401 - val_loss: 0.6054 - val_acc: 0.8191\n",
            "Epoch 90/5000\n",
            "751/751 [==============================] - 0s 123us/step - loss: 0.2766 - acc: 0.9427 - val_loss: 0.5935 - val_acc: 0.8404\n",
            "Epoch 91/5000\n",
            "751/751 [==============================] - 0s 122us/step - loss: 0.2816 - acc: 0.9521 - val_loss: 0.5888 - val_acc: 0.8404\n",
            "Epoch 92/5000\n",
            "751/751 [==============================] - 0s 125us/step - loss: 0.2754 - acc: 0.9614 - val_loss: 0.5900 - val_acc: 0.8404\n",
            "Epoch 93/5000\n",
            "751/751 [==============================] - 0s 131us/step - loss: 0.2770 - acc: 0.9521 - val_loss: 0.5910 - val_acc: 0.8298\n",
            "Epoch 94/5000\n",
            "751/751 [==============================] - 0s 125us/step - loss: 0.2701 - acc: 0.9521 - val_loss: 0.5885 - val_acc: 0.8404\n",
            "Epoch 95/5000\n",
            "751/751 [==============================] - 0s 125us/step - loss: 0.2781 - acc: 0.9427 - val_loss: 0.5938 - val_acc: 0.8298\n",
            "Epoch 96/5000\n",
            "751/751 [==============================] - 0s 121us/step - loss: 0.2630 - acc: 0.9521 - val_loss: 0.5958 - val_acc: 0.8298\n",
            "Epoch 97/5000\n",
            "751/751 [==============================] - 0s 122us/step - loss: 0.2652 - acc: 0.9507 - val_loss: 0.6310 - val_acc: 0.8085\n",
            "Epoch 98/5000\n",
            "751/751 [==============================] - 0s 120us/step - loss: 0.2846 - acc: 0.9467 - val_loss: 0.5898 - val_acc: 0.8404\n",
            "Epoch 99/5000\n",
            "751/751 [==============================] - 0s 121us/step - loss: 0.2604 - acc: 0.9627 - val_loss: 0.6599 - val_acc: 0.7872\n",
            "Epoch 100/5000\n",
            "751/751 [==============================] - 0s 124us/step - loss: 0.2786 - acc: 0.9467 - val_loss: 0.6168 - val_acc: 0.8191\n",
            "Epoch 101/5000\n",
            "751/751 [==============================] - 0s 117us/step - loss: 0.2679 - acc: 0.9561 - val_loss: 0.6031 - val_acc: 0.8404\n",
            "Epoch 102/5000\n",
            "751/751 [==============================] - 0s 118us/step - loss: 0.2589 - acc: 0.9561 - val_loss: 0.5933 - val_acc: 0.8511\n",
            "Epoch 103/5000\n",
            "751/751 [==============================] - 0s 117us/step - loss: 0.2630 - acc: 0.9507 - val_loss: 0.6377 - val_acc: 0.8298\n",
            "Epoch 104/5000\n",
            "751/751 [==============================] - 0s 121us/step - loss: 0.2678 - acc: 0.9534 - val_loss: 0.6145 - val_acc: 0.8191\n",
            "Epoch 105/5000\n",
            "751/751 [==============================] - 0s 130us/step - loss: 0.2497 - acc: 0.9601 - val_loss: 0.6012 - val_acc: 0.8404\n",
            "Epoch 106/5000\n",
            "751/751 [==============================] - 0s 125us/step - loss: 0.2498 - acc: 0.9614 - val_loss: 0.6192 - val_acc: 0.8191\n",
            "Epoch 107/5000\n",
            "751/751 [==============================] - 0s 128us/step - loss: 0.2653 - acc: 0.9387 - val_loss: 0.6002 - val_acc: 0.8191\n",
            "Epoch 108/5000\n",
            "751/751 [==============================] - 0s 123us/step - loss: 0.2575 - acc: 0.9534 - val_loss: 0.5977 - val_acc: 0.8191\n",
            "Epoch 109/5000\n",
            "751/751 [==============================] - 0s 123us/step - loss: 0.2546 - acc: 0.9561 - val_loss: 0.6002 - val_acc: 0.8298\n",
            "Epoch 110/5000\n",
            "751/751 [==============================] - 0s 126us/step - loss: 0.2542 - acc: 0.9414 - val_loss: 0.5911 - val_acc: 0.8191\n",
            "Epoch 111/5000\n",
            "751/751 [==============================] - 0s 121us/step - loss: 0.2522 - acc: 0.9547 - val_loss: 0.5720 - val_acc: 0.8617\n",
            "Epoch 112/5000\n",
            "751/751 [==============================] - 0s 123us/step - loss: 0.2614 - acc: 0.9507 - val_loss: 0.5603 - val_acc: 0.8617\n",
            "Epoch 113/5000\n",
            "751/751 [==============================] - 0s 120us/step - loss: 0.2420 - acc: 0.9601 - val_loss: 0.5652 - val_acc: 0.8511\n",
            "Epoch 114/5000\n",
            "751/751 [==============================] - 0s 120us/step - loss: 0.2534 - acc: 0.9547 - val_loss: 0.5690 - val_acc: 0.8511\n",
            "Epoch 115/5000\n",
            "751/751 [==============================] - 0s 141us/step - loss: 0.2438 - acc: 0.9654 - val_loss: 0.5672 - val_acc: 0.8511\n",
            "Epoch 116/5000\n",
            "751/751 [==============================] - 0s 129us/step - loss: 0.2443 - acc: 0.9561 - val_loss: 0.5680 - val_acc: 0.8511\n",
            "Epoch 117/5000\n",
            "751/751 [==============================] - 0s 131us/step - loss: 0.2429 - acc: 0.9614 - val_loss: 0.5768 - val_acc: 0.8511\n",
            "Epoch 118/5000\n",
            "751/751 [==============================] - 0s 126us/step - loss: 0.2375 - acc: 0.9547 - val_loss: 0.5654 - val_acc: 0.8617\n",
            "Epoch 119/5000\n",
            "751/751 [==============================] - 0s 126us/step - loss: 0.2390 - acc: 0.9587 - val_loss: 0.5710 - val_acc: 0.8298\n",
            "Epoch 120/5000\n",
            "751/751 [==============================] - 0s 123us/step - loss: 0.2370 - acc: 0.9640 - val_loss: 0.5683 - val_acc: 0.8404\n",
            "Epoch 121/5000\n",
            "751/751 [==============================] - 0s 124us/step - loss: 0.2363 - acc: 0.9694 - val_loss: 0.5691 - val_acc: 0.8404\n",
            "Epoch 122/5000\n",
            "751/751 [==============================] - 0s 122us/step - loss: 0.2357 - acc: 0.9667 - val_loss: 0.5611 - val_acc: 0.8511\n",
            "Epoch 123/5000\n",
            "751/751 [==============================] - 0s 120us/step - loss: 0.2294 - acc: 0.9627 - val_loss: 0.5624 - val_acc: 0.8511\n",
            "Epoch 124/5000\n",
            "751/751 [==============================] - 0s 124us/step - loss: 0.2323 - acc: 0.9640 - val_loss: 0.6305 - val_acc: 0.8085\n",
            "Epoch 125/5000\n",
            "751/751 [==============================] - 0s 122us/step - loss: 0.2406 - acc: 0.9654 - val_loss: 0.5825 - val_acc: 0.8511\n",
            "Epoch 126/5000\n",
            "751/751 [==============================] - 0s 134us/step - loss: 0.2399 - acc: 0.9614 - val_loss: 0.5915 - val_acc: 0.8298\n",
            "Epoch 127/5000\n",
            "751/751 [==============================] - 0s 126us/step - loss: 0.2387 - acc: 0.9414 - val_loss: 0.5795 - val_acc: 0.8191\n",
            "Epoch 128/5000\n",
            "751/751 [==============================] - 0s 128us/step - loss: 0.2301 - acc: 0.9614 - val_loss: 0.6309 - val_acc: 0.8191\n",
            "Epoch 129/5000\n",
            "751/751 [==============================] - 0s 126us/step - loss: 0.2449 - acc: 0.9667 - val_loss: 0.5965 - val_acc: 0.8191\n",
            "Epoch 130/5000\n",
            "751/751 [==============================] - 0s 129us/step - loss: 0.2357 - acc: 0.9601 - val_loss: 0.5852 - val_acc: 0.8404\n",
            "Epoch 131/5000\n",
            "751/751 [==============================] - 0s 125us/step - loss: 0.2283 - acc: 0.9640 - val_loss: 0.5789 - val_acc: 0.8404\n",
            "Epoch 132/5000\n",
            "751/751 [==============================] - 0s 126us/step - loss: 0.2272 - acc: 0.9627 - val_loss: 0.6102 - val_acc: 0.8085\n",
            "Epoch 133/5000\n",
            "751/751 [==============================] - 0s 126us/step - loss: 0.2369 - acc: 0.9494 - val_loss: 0.5859 - val_acc: 0.8191\n",
            "Epoch 134/5000\n",
            "751/751 [==============================] - 0s 121us/step - loss: 0.2325 - acc: 0.9614 - val_loss: 0.5737 - val_acc: 0.8298\n",
            "Epoch 135/5000\n",
            "751/751 [==============================] - 0s 116us/step - loss: 0.2221 - acc: 0.9694 - val_loss: 0.5911 - val_acc: 0.8085\n",
            "Epoch 136/5000\n",
            "751/751 [==============================] - 0s 124us/step - loss: 0.2319 - acc: 0.9561 - val_loss: 0.6189 - val_acc: 0.8085\n",
            "Epoch 137/5000\n",
            "751/751 [==============================] - 0s 135us/step - loss: 0.2419 - acc: 0.9614 - val_loss: 0.5864 - val_acc: 0.8085\n",
            "Epoch 138/5000\n",
            "751/751 [==============================] - 0s 127us/step - loss: 0.2179 - acc: 0.9680 - val_loss: 0.5732 - val_acc: 0.8085\n",
            "Epoch 139/5000\n",
            "751/751 [==============================] - 0s 122us/step - loss: 0.2206 - acc: 0.9640 - val_loss: 0.6121 - val_acc: 0.7766\n",
            "Epoch 140/5000\n",
            "751/751 [==============================] - 0s 118us/step - loss: 0.2277 - acc: 0.9507 - val_loss: 0.5859 - val_acc: 0.8085\n",
            "Epoch 141/5000\n",
            "751/751 [==============================] - 0s 120us/step - loss: 0.2216 - acc: 0.9601 - val_loss: 0.5988 - val_acc: 0.8191\n",
            "Epoch 142/5000\n",
            "751/751 [==============================] - 0s 122us/step - loss: 0.2268 - acc: 0.9640 - val_loss: 0.5790 - val_acc: 0.8404\n",
            "Epoch 143/5000\n",
            "751/751 [==============================] - 0s 121us/step - loss: 0.2166 - acc: 0.9694 - val_loss: 0.5782 - val_acc: 0.8298\n",
            "Epoch 144/5000\n",
            "751/751 [==============================] - 0s 124us/step - loss: 0.2202 - acc: 0.9667 - val_loss: 0.5656 - val_acc: 0.8511\n",
            "Epoch 145/5000\n",
            "751/751 [==============================] - 0s 123us/step - loss: 0.2077 - acc: 0.9720 - val_loss: 0.6312 - val_acc: 0.8191\n",
            "Epoch 146/5000\n",
            "751/751 [==============================] - 0s 119us/step - loss: 0.2328 - acc: 0.9587 - val_loss: 0.5888 - val_acc: 0.8191\n",
            "Epoch 147/5000\n",
            "751/751 [==============================] - 0s 122us/step - loss: 0.2226 - acc: 0.9694 - val_loss: 0.6074 - val_acc: 0.8191\n",
            "Epoch 148/5000\n",
            "751/751 [==============================] - 0s 134us/step - loss: 0.2302 - acc: 0.9427 - val_loss: 0.5804 - val_acc: 0.8085\n",
            "Epoch 149/5000\n",
            "751/751 [==============================] - 0s 123us/step - loss: 0.2190 - acc: 0.9601 - val_loss: 0.5676 - val_acc: 0.8191\n",
            "Epoch 150/5000\n",
            "751/751 [==============================] - 0s 125us/step - loss: 0.2089 - acc: 0.9640 - val_loss: 0.5657 - val_acc: 0.8298\n",
            "Epoch 151/5000\n",
            "751/751 [==============================] - 0s 124us/step - loss: 0.2068 - acc: 0.9667 - val_loss: 0.5579 - val_acc: 0.8511\n",
            "Epoch 152/5000\n",
            "751/751 [==============================] - 0s 120us/step - loss: 0.2142 - acc: 0.9574 - val_loss: 0.5562 - val_acc: 0.8511\n",
            "Epoch 153/5000\n",
            "751/751 [==============================] - 0s 127us/step - loss: 0.2076 - acc: 0.9640 - val_loss: 0.5529 - val_acc: 0.8404\n",
            "Epoch 154/5000\n",
            "751/751 [==============================] - 0s 120us/step - loss: 0.2058 - acc: 0.9680 - val_loss: 0.5557 - val_acc: 0.8404\n",
            "Epoch 155/5000\n",
            "751/751 [==============================] - 0s 122us/step - loss: 0.2019 - acc: 0.9654 - val_loss: 0.5974 - val_acc: 0.8085\n",
            "Epoch 156/5000\n",
            "751/751 [==============================] - 0s 119us/step - loss: 0.2274 - acc: 0.9374 - val_loss: 0.5695 - val_acc: 0.8298\n",
            "Epoch 157/5000\n",
            "751/751 [==============================] - 0s 119us/step - loss: 0.2102 - acc: 0.9640 - val_loss: 0.5598 - val_acc: 0.8298\n",
            "Epoch 158/5000\n",
            "751/751 [==============================] - 0s 117us/step - loss: 0.2065 - acc: 0.9640 - val_loss: 0.5603 - val_acc: 0.8404\n",
            "Epoch 159/5000\n",
            "751/751 [==============================] - 0s 133us/step - loss: 0.2046 - acc: 0.9707 - val_loss: 0.5585 - val_acc: 0.8617\n",
            "Epoch 160/5000\n",
            "751/751 [==============================] - 0s 122us/step - loss: 0.2029 - acc: 0.9654 - val_loss: 0.5725 - val_acc: 0.8511\n",
            "Epoch 161/5000\n",
            "751/751 [==============================] - 0s 119us/step - loss: 0.2015 - acc: 0.9774 - val_loss: 0.5705 - val_acc: 0.8511\n",
            "Epoch 162/5000\n",
            "751/751 [==============================] - 0s 123us/step - loss: 0.1903 - acc: 0.9774 - val_loss: 0.5596 - val_acc: 0.8617\n",
            "Epoch 163/5000\n",
            "751/751 [==============================] - 0s 120us/step - loss: 0.1975 - acc: 0.9680 - val_loss: 0.5639 - val_acc: 0.8511\n",
            "Epoch 164/5000\n",
            "751/751 [==============================] - 0s 118us/step - loss: 0.1973 - acc: 0.9774 - val_loss: 0.5662 - val_acc: 0.8511\n",
            "Epoch 165/5000\n",
            "751/751 [==============================] - 0s 119us/step - loss: 0.1917 - acc: 0.9734 - val_loss: 0.5680 - val_acc: 0.8511\n",
            "Epoch 166/5000\n",
            "751/751 [==============================] - 0s 121us/step - loss: 0.1870 - acc: 0.9747 - val_loss: 0.5720 - val_acc: 0.8404\n",
            "Epoch 167/5000\n",
            "751/751 [==============================] - 0s 123us/step - loss: 0.2000 - acc: 0.9654 - val_loss: 0.5643 - val_acc: 0.8404\n",
            "Epoch 168/5000\n",
            "751/751 [==============================] - 0s 118us/step - loss: 0.1955 - acc: 0.9627 - val_loss: 0.5538 - val_acc: 0.8617\n",
            "Epoch 169/5000\n",
            "751/751 [==============================] - 0s 120us/step - loss: 0.1960 - acc: 0.9680 - val_loss: 0.5630 - val_acc: 0.8511\n",
            "Epoch 170/5000\n",
            "751/751 [==============================] - 0s 133us/step - loss: 0.1946 - acc: 0.9734 - val_loss: 0.5527 - val_acc: 0.8617\n",
            "Epoch 171/5000\n",
            "751/751 [==============================] - 0s 123us/step - loss: 0.1868 - acc: 0.9734 - val_loss: 0.5558 - val_acc: 0.8617\n",
            "Epoch 172/5000\n",
            "751/751 [==============================] - 0s 125us/step - loss: 0.1870 - acc: 0.9707 - val_loss: 0.5550 - val_acc: 0.8511\n",
            "Epoch 173/5000\n",
            "751/751 [==============================] - 0s 120us/step - loss: 0.1951 - acc: 0.9694 - val_loss: 0.5430 - val_acc: 0.8511\n",
            "Epoch 174/5000\n",
            "751/751 [==============================] - 0s 120us/step - loss: 0.1930 - acc: 0.9720 - val_loss: 0.5455 - val_acc: 0.8723\n",
            "Epoch 175/5000\n",
            "751/751 [==============================] - 0s 123us/step - loss: 0.1863 - acc: 0.9774 - val_loss: 0.5526 - val_acc: 0.8404\n",
            "Epoch 176/5000\n",
            "751/751 [==============================] - 0s 122us/step - loss: 0.1932 - acc: 0.9680 - val_loss: 0.5438 - val_acc: 0.8723\n",
            "Epoch 177/5000\n",
            "751/751 [==============================] - 0s 122us/step - loss: 0.1879 - acc: 0.9667 - val_loss: 0.5492 - val_acc: 0.8617\n",
            "Epoch 178/5000\n",
            "751/751 [==============================] - 0s 124us/step - loss: 0.1841 - acc: 0.9707 - val_loss: 0.5442 - val_acc: 0.8617\n",
            "Epoch 179/5000\n",
            "751/751 [==============================] - 0s 121us/step - loss: 0.1871 - acc: 0.9760 - val_loss: 0.5414 - val_acc: 0.8617\n",
            "Epoch 180/5000\n",
            "751/751 [==============================] - 0s 126us/step - loss: 0.1832 - acc: 0.9774 - val_loss: 0.5360 - val_acc: 0.8617\n",
            "Epoch 181/5000\n",
            "751/751 [==============================] - 0s 137us/step - loss: 0.1805 - acc: 0.9694 - val_loss: 0.5379 - val_acc: 0.8617\n",
            "Epoch 182/5000\n",
            "751/751 [==============================] - 0s 127us/step - loss: 0.1853 - acc: 0.9680 - val_loss: 0.5401 - val_acc: 0.8511\n",
            "Epoch 183/5000\n",
            "751/751 [==============================] - 0s 129us/step - loss: 0.1794 - acc: 0.9720 - val_loss: 0.5333 - val_acc: 0.8723\n",
            "Epoch 184/5000\n",
            "751/751 [==============================] - 0s 126us/step - loss: 0.1799 - acc: 0.9774 - val_loss: 0.5763 - val_acc: 0.8404\n",
            "Epoch 185/5000\n",
            "751/751 [==============================] - 0s 124us/step - loss: 0.1815 - acc: 0.9854 - val_loss: 0.5599 - val_acc: 0.8404\n",
            "Epoch 186/5000\n",
            "751/751 [==============================] - 0s 124us/step - loss: 0.1944 - acc: 0.9574 - val_loss: 0.5509 - val_acc: 0.8617\n",
            "Epoch 187/5000\n",
            "751/751 [==============================] - 0s 125us/step - loss: 0.1891 - acc: 0.9760 - val_loss: 0.5601 - val_acc: 0.8511\n",
            "Epoch 188/5000\n",
            "751/751 [==============================] - 0s 121us/step - loss: 0.1793 - acc: 0.9734 - val_loss: 0.5601 - val_acc: 0.8511\n",
            "Epoch 189/5000\n",
            "751/751 [==============================] - 0s 122us/step - loss: 0.1811 - acc: 0.9774 - val_loss: 0.5521 - val_acc: 0.8511\n",
            "Epoch 190/5000\n",
            "751/751 [==============================] - 0s 120us/step - loss: 0.1789 - acc: 0.9734 - val_loss: 0.5540 - val_acc: 0.8511\n",
            "Epoch 191/5000\n",
            "751/751 [==============================] - 0s 120us/step - loss: 0.1746 - acc: 0.9747 - val_loss: 0.5525 - val_acc: 0.8511\n",
            "Epoch 192/5000\n",
            "751/751 [==============================] - 0s 130us/step - loss: 0.1716 - acc: 0.9814 - val_loss: 0.5474 - val_acc: 0.8511\n",
            "Epoch 193/5000\n",
            "751/751 [==============================] - 0s 122us/step - loss: 0.1762 - acc: 0.9734 - val_loss: 0.5518 - val_acc: 0.8511\n",
            "Epoch 194/5000\n",
            "751/751 [==============================] - 0s 125us/step - loss: 0.1706 - acc: 0.9814 - val_loss: 0.5503 - val_acc: 0.8511\n",
            "Epoch 195/5000\n",
            "751/751 [==============================] - 0s 119us/step - loss: 0.1752 - acc: 0.9760 - val_loss: 0.5923 - val_acc: 0.8085\n",
            "Epoch 196/5000\n",
            "751/751 [==============================] - 0s 120us/step - loss: 0.1902 - acc: 0.9707 - val_loss: 0.6274 - val_acc: 0.7766\n",
            "Epoch 197/5000\n",
            "751/751 [==============================] - 0s 122us/step - loss: 0.1858 - acc: 0.9734 - val_loss: 0.5799 - val_acc: 0.8191\n",
            "Epoch 198/5000\n",
            "751/751 [==============================] - 0s 120us/step - loss: 0.1818 - acc: 0.9747 - val_loss: 0.5900 - val_acc: 0.8191\n",
            "Epoch 199/5000\n",
            "751/751 [==============================] - 0s 125us/step - loss: 0.1809 - acc: 0.9760 - val_loss: 0.5631 - val_acc: 0.8191\n",
            "Epoch 200/5000\n",
            "751/751 [==============================] - 0s 119us/step - loss: 0.1748 - acc: 0.9787 - val_loss: 0.5534 - val_acc: 0.8404\n",
            "Epoch 201/5000\n",
            "751/751 [==============================] - 0s 122us/step - loss: 0.1811 - acc: 0.9707 - val_loss: 0.5496 - val_acc: 0.8617\n",
            "Epoch 202/5000\n",
            "751/751 [==============================] - 0s 120us/step - loss: 0.1695 - acc: 0.9787 - val_loss: 0.5356 - val_acc: 0.8617\n",
            "Epoch 203/5000\n",
            "751/751 [==============================] - 0s 134us/step - loss: 0.1722 - acc: 0.9747 - val_loss: 0.5395 - val_acc: 0.8511\n",
            "Epoch 204/5000\n",
            "751/751 [==============================] - 0s 123us/step - loss: 0.1710 - acc: 0.9747 - val_loss: 0.5429 - val_acc: 0.8511\n",
            "Epoch 205/5000\n",
            "751/751 [==============================] - 0s 125us/step - loss: 0.1674 - acc: 0.9800 - val_loss: 0.5472 - val_acc: 0.8511\n",
            "Epoch 206/5000\n",
            "751/751 [==============================] - 0s 119us/step - loss: 0.1673 - acc: 0.9747 - val_loss: 0.5434 - val_acc: 0.8617\n",
            "Epoch 207/5000\n",
            "751/751 [==============================] - 0s 120us/step - loss: 0.1634 - acc: 0.9774 - val_loss: 0.5409 - val_acc: 0.8617\n",
            "Epoch 208/5000\n",
            "751/751 [==============================] - 0s 115us/step - loss: 0.1646 - acc: 0.9827 - val_loss: 0.5374 - val_acc: 0.8617\n",
            "Epoch 209/5000\n",
            "751/751 [==============================] - 0s 120us/step - loss: 0.1716 - acc: 0.9760 - val_loss: 0.5403 - val_acc: 0.8617\n",
            "Epoch 210/5000\n",
            "751/751 [==============================] - 0s 120us/step - loss: 0.1653 - acc: 0.9720 - val_loss: 0.5420 - val_acc: 0.8617\n",
            "Epoch 211/5000\n",
            "751/751 [==============================] - 0s 124us/step - loss: 0.1602 - acc: 0.9800 - val_loss: 0.5420 - val_acc: 0.8617\n",
            "Epoch 212/5000\n",
            "751/751 [==============================] - 0s 125us/step - loss: 0.1606 - acc: 0.9840 - val_loss: 0.5391 - val_acc: 0.8617\n",
            "Epoch 213/5000\n",
            "751/751 [==============================] - 0s 120us/step - loss: 0.1614 - acc: 0.9814 - val_loss: 0.5301 - val_acc: 0.8617\n",
            "Epoch 214/5000\n",
            "751/751 [==============================] - 0s 133us/step - loss: 0.1608 - acc: 0.9787 - val_loss: 0.5335 - val_acc: 0.8617\n",
            "Epoch 215/5000\n",
            "751/751 [==============================] - 0s 121us/step - loss: 0.1599 - acc: 0.9814 - val_loss: 0.5328 - val_acc: 0.8617\n",
            "Epoch 216/5000\n",
            "751/751 [==============================] - 0s 125us/step - loss: 0.1613 - acc: 0.9787 - val_loss: 0.5358 - val_acc: 0.8617\n",
            "Epoch 217/5000\n",
            "751/751 [==============================] - 0s 121us/step - loss: 0.1657 - acc: 0.9827 - val_loss: 0.5356 - val_acc: 0.8617\n",
            "Epoch 218/5000\n",
            "751/751 [==============================] - 0s 121us/step - loss: 0.1639 - acc: 0.9774 - val_loss: 0.5350 - val_acc: 0.8617\n",
            "Epoch 219/5000\n",
            "751/751 [==============================] - 0s 121us/step - loss: 0.1630 - acc: 0.9760 - val_loss: 0.5472 - val_acc: 0.8191\n",
            "Epoch 220/5000\n",
            "751/751 [==============================] - 0s 122us/step - loss: 0.1727 - acc: 0.9614 - val_loss: 0.5369 - val_acc: 0.8404\n",
            "Epoch 221/5000\n",
            "751/751 [==============================] - 0s 121us/step - loss: 0.1667 - acc: 0.9774 - val_loss: 0.5378 - val_acc: 0.8511\n",
            "Epoch 222/5000\n",
            "751/751 [==============================] - 0s 124us/step - loss: 0.1601 - acc: 0.9774 - val_loss: 0.5587 - val_acc: 0.8404\n",
            "Epoch 223/5000\n",
            "751/751 [==============================] - 0s 120us/step - loss: 0.1720 - acc: 0.9707 - val_loss: 0.5404 - val_acc: 0.8404\n",
            "Epoch 224/5000\n",
            "751/751 [==============================] - 0s 124us/step - loss: 0.1573 - acc: 0.9854 - val_loss: 0.5332 - val_acc: 0.8617\n",
            "Epoch 225/5000\n",
            "751/751 [==============================] - 0s 131us/step - loss: 0.1581 - acc: 0.9827 - val_loss: 0.5323 - val_acc: 0.8617\n",
            "Epoch 226/5000\n",
            "751/751 [==============================] - 0s 132us/step - loss: 0.1571 - acc: 0.9760 - val_loss: 0.5393 - val_acc: 0.8617\n",
            "Epoch 227/5000\n",
            "751/751 [==============================] - 0s 127us/step - loss: 0.1554 - acc: 0.9827 - val_loss: 0.5368 - val_acc: 0.8404\n",
            "Epoch 228/5000\n",
            "751/751 [==============================] - 0s 124us/step - loss: 0.1540 - acc: 0.9734 - val_loss: 0.5614 - val_acc: 0.8298\n",
            "Epoch 229/5000\n",
            "751/751 [==============================] - 0s 121us/step - loss: 0.1603 - acc: 0.9787 - val_loss: 0.5463 - val_acc: 0.8404\n",
            "Epoch 230/5000\n",
            "751/751 [==============================] - 0s 120us/step - loss: 0.1592 - acc: 0.9774 - val_loss: 0.5422 - val_acc: 0.8511\n",
            "Epoch 231/5000\n",
            "751/751 [==============================] - 0s 123us/step - loss: 0.1600 - acc: 0.9774 - val_loss: 0.5408 - val_acc: 0.8404\n",
            "Epoch 232/5000\n",
            "751/751 [==============================] - 0s 122us/step - loss: 0.1536 - acc: 0.9760 - val_loss: 0.5389 - val_acc: 0.8511\n",
            "Epoch 233/5000\n",
            "751/751 [==============================] - 0s 120us/step - loss: 0.1556 - acc: 0.9787 - val_loss: 0.5344 - val_acc: 0.8511\n",
            "Epoch 234/5000\n",
            "751/751 [==============================] - 0s 121us/step - loss: 0.1546 - acc: 0.9814 - val_loss: 0.5399 - val_acc: 0.8511\n",
            "Epoch 235/5000\n",
            "751/751 [==============================] - 0s 119us/step - loss: 0.1566 - acc: 0.9827 - val_loss: 0.5311 - val_acc: 0.8617\n",
            "Epoch 236/5000\n",
            "751/751 [==============================] - 0s 133us/step - loss: 0.1612 - acc: 0.9774 - val_loss: 0.5591 - val_acc: 0.8617\n",
            "Epoch 237/5000\n",
            "751/751 [==============================] - 0s 122us/step - loss: 0.1615 - acc: 0.9800 - val_loss: 0.5448 - val_acc: 0.8617\n",
            "Epoch 238/5000\n",
            "751/751 [==============================] - 0s 124us/step - loss: 0.1611 - acc: 0.9734 - val_loss: 0.5295 - val_acc: 0.8723\n",
            "Epoch 239/5000\n",
            "751/751 [==============================] - 0s 121us/step - loss: 0.1484 - acc: 0.9827 - val_loss: 0.5276 - val_acc: 0.8723\n",
            "Epoch 240/5000\n",
            "751/751 [==============================] - 0s 123us/step - loss: 0.1598 - acc: 0.9734 - val_loss: 0.5188 - val_acc: 0.8617\n",
            "Epoch 241/5000\n",
            "751/751 [==============================] - 0s 121us/step - loss: 0.1572 - acc: 0.9747 - val_loss: 0.5106 - val_acc: 0.8617\n",
            "Epoch 242/5000\n",
            "751/751 [==============================] - 0s 119us/step - loss: 0.1544 - acc: 0.9840 - val_loss: 0.5154 - val_acc: 0.8404\n",
            "Epoch 243/5000\n",
            "751/751 [==============================] - 0s 121us/step - loss: 0.1618 - acc: 0.9774 - val_loss: 0.5242 - val_acc: 0.8617\n",
            "Epoch 244/5000\n",
            "751/751 [==============================] - 0s 122us/step - loss: 0.1570 - acc: 0.9760 - val_loss: 0.5218 - val_acc: 0.8617\n",
            "Epoch 245/5000\n",
            "751/751 [==============================] - 0s 119us/step - loss: 0.1514 - acc: 0.9814 - val_loss: 0.5193 - val_acc: 0.8617\n",
            "Epoch 246/5000\n",
            "751/751 [==============================] - 0s 121us/step - loss: 0.1486 - acc: 0.9854 - val_loss: 0.5199 - val_acc: 0.8617\n",
            "Epoch 247/5000\n",
            "751/751 [==============================] - 0s 135us/step - loss: 0.1473 - acc: 0.9814 - val_loss: 0.5171 - val_acc: 0.8511\n",
            "Epoch 248/5000\n",
            "751/751 [==============================] - 0s 128us/step - loss: 0.1523 - acc: 0.9787 - val_loss: 0.5208 - val_acc: 0.8404\n",
            "Epoch 249/5000\n",
            "751/751 [==============================] - 0s 121us/step - loss: 0.1485 - acc: 0.9827 - val_loss: 0.5219 - val_acc: 0.8511\n",
            "Epoch 250/5000\n",
            "751/751 [==============================] - 0s 127us/step - loss: 0.1460 - acc: 0.9854 - val_loss: 0.5181 - val_acc: 0.8617\n",
            "Epoch 251/5000\n",
            "751/751 [==============================] - 0s 127us/step - loss: 0.1481 - acc: 0.9840 - val_loss: 0.5169 - val_acc: 0.8617\n",
            "Epoch 252/5000\n",
            "751/751 [==============================] - 0s 121us/step - loss: 0.1478 - acc: 0.9747 - val_loss: 0.5201 - val_acc: 0.8617\n",
            "Epoch 253/5000\n",
            "751/751 [==============================] - 0s 121us/step - loss: 0.1491 - acc: 0.9827 - val_loss: 0.5211 - val_acc: 0.8617\n",
            "Epoch 254/5000\n",
            "751/751 [==============================] - 0s 121us/step - loss: 0.1501 - acc: 0.9760 - val_loss: 0.5238 - val_acc: 0.8617\n",
            "Epoch 255/5000\n",
            "751/751 [==============================] - 0s 117us/step - loss: 0.1430 - acc: 0.9827 - val_loss: 0.5229 - val_acc: 0.8617\n",
            "Epoch 256/5000\n",
            "751/751 [==============================] - 0s 123us/step - loss: 0.1418 - acc: 0.9814 - val_loss: 0.5207 - val_acc: 0.8617\n",
            "Epoch 257/5000\n",
            "751/751 [==============================] - 0s 122us/step - loss: 0.1442 - acc: 0.9827 - val_loss: 0.5237 - val_acc: 0.8617\n",
            "Epoch 258/5000\n",
            "751/751 [==============================] - 0s 135us/step - loss: 0.1457 - acc: 0.9840 - val_loss: 0.5253 - val_acc: 0.8617\n",
            "Epoch 259/5000\n",
            "751/751 [==============================] - 0s 133us/step - loss: 0.1445 - acc: 0.9814 - val_loss: 0.5286 - val_acc: 0.8617\n",
            "Epoch 260/5000\n",
            "751/751 [==============================] - 0s 128us/step - loss: 0.1382 - acc: 0.9840 - val_loss: 0.5253 - val_acc: 0.8617\n",
            "Epoch 261/5000\n",
            "751/751 [==============================] - 0s 128us/step - loss: 0.1467 - acc: 0.9800 - val_loss: 0.5271 - val_acc: 0.8617\n",
            "Epoch 262/5000\n",
            "751/751 [==============================] - 0s 126us/step - loss: 0.1442 - acc: 0.9840 - val_loss: 0.5268 - val_acc: 0.8617\n",
            "Epoch 263/5000\n",
            "751/751 [==============================] - 0s 122us/step - loss: 0.1413 - acc: 0.9840 - val_loss: 0.5267 - val_acc: 0.8617\n",
            "Epoch 264/5000\n",
            "751/751 [==============================] - 0s 124us/step - loss: 0.1558 - acc: 0.9747 - val_loss: 0.5197 - val_acc: 0.8723\n",
            "Epoch 265/5000\n",
            "751/751 [==============================] - 0s 124us/step - loss: 0.1532 - acc: 0.9840 - val_loss: 0.5127 - val_acc: 0.8723\n",
            "Epoch 266/5000\n",
            "751/751 [==============================] - 0s 120us/step - loss: 0.1419 - acc: 0.9840 - val_loss: 0.5132 - val_acc: 0.8723\n",
            "Epoch 267/5000\n",
            "751/751 [==============================] - 0s 119us/step - loss: 0.1446 - acc: 0.9800 - val_loss: 0.5232 - val_acc: 0.8723\n",
            "Epoch 268/5000\n",
            "751/751 [==============================] - 0s 130us/step - loss: 0.1435 - acc: 0.9827 - val_loss: 0.5194 - val_acc: 0.8617\n",
            "Epoch 269/5000\n",
            "751/751 [==============================] - 0s 128us/step - loss: 0.1401 - acc: 0.9814 - val_loss: 0.5386 - val_acc: 0.8298\n",
            "Epoch 270/5000\n",
            "751/751 [==============================] - 0s 126us/step - loss: 0.1474 - acc: 0.9747 - val_loss: 0.5208 - val_acc: 0.8298\n",
            "Epoch 271/5000\n",
            "751/751 [==============================] - 0s 122us/step - loss: 0.1495 - acc: 0.9787 - val_loss: 0.5217 - val_acc: 0.8511\n",
            "Epoch 272/5000\n",
            "751/751 [==============================] - 0s 124us/step - loss: 0.1375 - acc: 0.9854 - val_loss: 0.5179 - val_acc: 0.8511\n",
            "Epoch 273/5000\n",
            "751/751 [==============================] - 0s 125us/step - loss: 0.1371 - acc: 0.9814 - val_loss: 0.5329 - val_acc: 0.8511\n",
            "Epoch 274/5000\n",
            "751/751 [==============================] - 0s 124us/step - loss: 0.1363 - acc: 0.9840 - val_loss: 0.5269 - val_acc: 0.8511\n",
            "Epoch 275/5000\n",
            "751/751 [==============================] - 0s 124us/step - loss: 0.1408 - acc: 0.9840 - val_loss: 0.5206 - val_acc: 0.8617\n",
            "Epoch 276/5000\n",
            "751/751 [==============================] - 0s 121us/step - loss: 0.1385 - acc: 0.9827 - val_loss: 0.5209 - val_acc: 0.8511\n",
            "Epoch 277/5000\n",
            "751/751 [==============================] - 0s 120us/step - loss: 0.1383 - acc: 0.9827 - val_loss: 0.5185 - val_acc: 0.8511\n",
            "Epoch 278/5000\n",
            "751/751 [==============================] - 0s 122us/step - loss: 0.1307 - acc: 0.9867 - val_loss: 0.5192 - val_acc: 0.8511\n",
            "Epoch 279/5000\n",
            "751/751 [==============================] - 0s 138us/step - loss: 0.1338 - acc: 0.9814 - val_loss: 0.5218 - val_acc: 0.8511\n",
            "Epoch 280/5000\n",
            "751/751 [==============================] - 0s 127us/step - loss: 0.1341 - acc: 0.9880 - val_loss: 0.5220 - val_acc: 0.8511\n",
            "Epoch 281/5000\n",
            "751/751 [==============================] - 0s 126us/step - loss: 0.1354 - acc: 0.9827 - val_loss: 0.5185 - val_acc: 0.8617\n",
            "Epoch 282/5000\n",
            "751/751 [==============================] - 0s 123us/step - loss: 0.1392 - acc: 0.9854 - val_loss: 0.5191 - val_acc: 0.8617\n",
            "Epoch 283/5000\n",
            "751/751 [==============================] - 0s 127us/step - loss: 0.1379 - acc: 0.9867 - val_loss: 0.5132 - val_acc: 0.8404\n",
            "Epoch 284/5000\n",
            "751/751 [==============================] - 0s 122us/step - loss: 0.1389 - acc: 0.9827 - val_loss: 0.5263 - val_acc: 0.8404\n",
            "Epoch 285/5000\n",
            "751/751 [==============================] - 0s 121us/step - loss: 0.1414 - acc: 0.9800 - val_loss: 0.5201 - val_acc: 0.8511\n",
            "Epoch 286/5000\n",
            "751/751 [==============================] - 0s 117us/step - loss: 0.1387 - acc: 0.9800 - val_loss: 0.5190 - val_acc: 0.8511\n",
            "Epoch 287/5000\n",
            "751/751 [==============================] - 0s 118us/step - loss: 0.1432 - acc: 0.9707 - val_loss: 0.5114 - val_acc: 0.8511\n",
            "Epoch 288/5000\n",
            "751/751 [==============================] - 0s 119us/step - loss: 0.1411 - acc: 0.9840 - val_loss: 0.5245 - val_acc: 0.8404\n",
            "Epoch 289/5000\n",
            "751/751 [==============================] - 0s 118us/step - loss: 0.1376 - acc: 0.9787 - val_loss: 0.5170 - val_acc: 0.8404\n",
            "Epoch 290/5000\n",
            "751/751 [==============================] - 0s 131us/step - loss: 0.1334 - acc: 0.9814 - val_loss: 0.5136 - val_acc: 0.8511\n",
            "Epoch 291/5000\n",
            "751/751 [==============================] - 0s 122us/step - loss: 0.1318 - acc: 0.9840 - val_loss: 0.5110 - val_acc: 0.8723\n",
            "Epoch 00291: early stopping\n"
          ],
          "name": "stdout"
        }
      ]
    },
    {
      "cell_type": "code",
      "metadata": {
        "id": "X957AkDu1Aqt",
        "colab_type": "code",
        "outputId": "82dee1da-f650-4f7c-bcbb-d3243b2dc9d1",
        "colab": {
          "base_uri": "https://localhost:8080/",
          "height": 574
        }
      },
      "source": [
        "# summarize history for accuracy\n",
        "plt.plot(history.history['acc'])\n",
        "plt.plot(history.history['val_acc'])\n",
        "plt.title('model accuracy')\n",
        "plt.ylabel('accuracy')\n",
        "plt.xlabel('epoch')\n",
        "plt.legend(['train', 'test'], loc='upper left')\n",
        "plt.savefig('modelaccuracy.eps')\n",
        "plt.show()\n",
        "# summarize history for loss\n",
        "plt.plot(history.history['loss'])\n",
        "plt.plot(history.history['val_loss'])\n",
        "plt.title('model loss')\n",
        "plt.ylabel('loss')\n",
        "plt.xlabel('epoch')\n",
        "plt.legend(['train', 'test'], loc='upper left')\n",
        "plt.savefig('modelloss.eps')\n",
        "plt.show()"
      ],
      "execution_count": 34,
      "outputs": [
        {
          "output_type": "display_data",
          "data": {
            "image/png": "[encoded data removed]",
            "text/plain": [
              "<Figure size 432x288 with 1 Axes>"
            ]
          },
          "metadata": {
            "tags": []
          }
        },
        {
          "output_type": "display_data",
          "data": {
            "image/png": "[encoded data removed]",
            "text/plain": [
              "<Figure size 432x288 with 1 Axes>"
            ]
          },
          "metadata": {
            "tags": []
          }
        }
      ]
    },
    {
      "cell_type": "code",
      "metadata": {
        "id": "f3G3D-3hPb3x",
        "colab_type": "code",
        "outputId": "cd6aaf66-d851-479e-9bed-6b4f50f489e6",
        "colab": {
          "base_uri": "https://localhost:8080/",
          "height": 1764
        }
      },
      "source": [
        "kfold = StratifiedKFold(n_splits=10, shuffle=True, random_state=None)\n",
        "cvscores = []\n",
        "final_scores_mlp = []\n",
        "for train, test in kfold.split(X_train, y_train_integer):\n",
        "  for i in range(10):\n",
        "    init = initializers.glorot_normal(seed=None)\n",
        "    model = Sequential()\n",
        "    model.add(Dense(384, activation='relu', input_dim = X_train.shape[1],\n",
        "                    kernel_initializer = init, bias_initializer = init))\n",
        "    model.add(Dropout(0.2))\n",
        "    model.add(Dense(10, activation = 'softmax', \n",
        "                    kernel_initializer = init, bias_initializer = init))\n",
        "    opt = Adagrad(lr=0.01, epsilon=None, decay=0.0)\n",
        "    model.compile(loss='categorical_crossentropy', optimizer = opt, metrics=['accuracy'])\n",
        "    stop = EarlyStopping(monitor = 'val_loss', mode = 'min', verbose=1, patience=50)\n",
        "    filepath = r'gdrive/My Drive/Mestrado/Reconhecimento de Padrões/Trabalho Final/best_model_23_06.h5'\n",
        "    checkpoint = ModelCheckpoint(filepath, monitor='val_acc', verbose=0, save_best_only=True, mode='max')\n",
        "    history = model.fit(X_train, y_train_onehot, validation_split = 0.1, shuffle=True, batch_size = 50, \n",
        "                        epochs = 5000, verbose = 0, callbacks=[stop, checkpoint])\n",
        "    scores = model.evaluate(X_test, y_test_onehot, verbose=0)\n",
        "    cvscores.append(scores[1] * 100)\n",
        "  final_scores_mlp.append(sum(cvscores)/len(cvscores))\n",
        "  \n",
        "final_scores_mlp = np.array(final_scores_mlp)\n",
        "print(f'Acurácia média para cada fold repetido 10 vezes: {np.round(final_scores_mlp, decimals=2)}')\n",
        "print(f'\\nMédia da acurácia: {np.mean(final_scores_mlp):.2f}%')\n",
        "print(f'Desvio padrão da acurácia: {np.std(final_scores_mlp):.2f}%)')"
      ],
      "execution_count": 35,
      "outputs": [
        {
          "output_type": "stream",
          "text": [
            "Epoch 00189: early stopping\n",
            "Epoch 00270: early stopping\n",
            "Epoch 00225: early stopping\n",
            "Epoch 00293: early stopping\n",
            "Epoch 00244: early stopping\n",
            "Epoch 00343: early stopping\n",
            "Epoch 00288: early stopping\n",
            "Epoch 00245: early stopping\n",
            "Epoch 00323: early stopping\n",
            "Epoch 00245: early stopping\n",
            "Epoch 00184: early stopping\n",
            "Epoch 00328: early stopping\n",
            "Epoch 00406: early stopping\n",
            "Epoch 00346: early stopping\n",
            "Epoch 00376: early stopping\n",
            "Epoch 00286: early stopping\n",
            "Epoch 00266: early stopping\n",
            "Epoch 00253: early stopping\n",
            "Epoch 00321: early stopping\n",
            "Epoch 00302: early stopping\n",
            "Epoch 00161: early stopping\n",
            "Epoch 00430: early stopping\n",
            "Epoch 00329: early stopping\n",
            "Epoch 00293: early stopping\n",
            "Epoch 00252: early stopping\n",
            "Epoch 00277: early stopping\n",
            "Epoch 00236: early stopping\n",
            "Epoch 00260: early stopping\n",
            "Epoch 00207: early stopping\n",
            "Epoch 00306: early stopping\n",
            "Epoch 00268: early stopping\n",
            "Epoch 00243: early stopping\n",
            "Epoch 00206: early stopping\n",
            "Epoch 00295: early stopping\n",
            "Epoch 00316: early stopping\n",
            "Epoch 00323: early stopping\n",
            "Epoch 00400: early stopping\n",
            "Epoch 00254: early stopping\n",
            "Epoch 00198: early stopping\n",
            "Epoch 00242: early stopping\n",
            "Epoch 00459: early stopping\n",
            "Epoch 00297: early stopping\n",
            "Epoch 00455: early stopping\n",
            "Epoch 00296: early stopping\n",
            "Epoch 00283: early stopping\n",
            "Epoch 00225: early stopping\n",
            "Epoch 00304: early stopping\n",
            "Epoch 00255: early stopping\n",
            "Epoch 00300: early stopping\n",
            "Epoch 00187: early stopping\n",
            "Epoch 00495: early stopping\n",
            "Epoch 00246: early stopping\n",
            "Epoch 00203: early stopping\n",
            "Epoch 00294: early stopping\n",
            "Epoch 00203: early stopping\n",
            "Epoch 00213: early stopping\n",
            "Epoch 00206: early stopping\n",
            "Epoch 00354: early stopping\n",
            "Epoch 00271: early stopping\n",
            "Epoch 00204: early stopping\n",
            "Epoch 00187: early stopping\n",
            "Epoch 00206: early stopping\n",
            "Epoch 00418: early stopping\n",
            "Epoch 00287: early stopping\n",
            "Epoch 00193: early stopping\n",
            "Epoch 00286: early stopping\n",
            "Epoch 00205: early stopping\n",
            "Epoch 00374: early stopping\n",
            "Epoch 00255: early stopping\n",
            "Epoch 00317: early stopping\n",
            "Epoch 00280: early stopping\n",
            "Epoch 00210: early stopping\n",
            "Epoch 00272: early stopping\n",
            "Epoch 00419: early stopping\n",
            "Epoch 00280: early stopping\n",
            "Epoch 00459: early stopping\n",
            "Epoch 00210: early stopping\n",
            "Epoch 00340: early stopping\n",
            "Epoch 00262: early stopping\n",
            "Epoch 00199: early stopping\n",
            "Epoch 00251: early stopping\n",
            "Epoch 00297: early stopping\n",
            "Epoch 00283: early stopping\n",
            "Epoch 00286: early stopping\n",
            "Epoch 00322: early stopping\n",
            "Epoch 00252: early stopping\n",
            "Epoch 00261: early stopping\n",
            "Epoch 00216: early stopping\n",
            "Epoch 00320: early stopping\n",
            "Epoch 00261: early stopping\n",
            "Epoch 00364: early stopping\n",
            "Epoch 00264: early stopping\n",
            "Epoch 00237: early stopping\n",
            "Epoch 00280: early stopping\n",
            "Epoch 00284: early stopping\n",
            "Epoch 00413: early stopping\n",
            "Epoch 00203: early stopping\n",
            "Epoch 00252: early stopping\n",
            "Epoch 00238: early stopping\n",
            "Epoch 00264: early stopping\n",
            "Acurácia média para cada fold repetido 10 vezes: [89.89 89.26 89.15 89.1  89.11 89.13 89.19 89.23 89.28 89.29]\n",
            "\n",
            "Média da acurácia: 89.26%\n",
            "Desvio padrão da acurácia: 0.22%)\n"
          ],
          "name": "stdout"
        }
      ]
    },
    {
      "cell_type": "markdown",
      "metadata": {
        "id": "u_oUPwyR9uMr",
        "colab_type": "text"
      },
      "source": [
        "## Best MLP model"
      ]
    },
    {
      "cell_type": "code",
      "metadata": {
        "id": "os5CD6fD1mHI",
        "colab_type": "code",
        "colab": {}
      },
      "source": [
        "from sklearn.preprocessing import LabelEncoder\n",
        "from sklearn.preprocessing import OneHotEncoder\n",
        "from keras.callbacks import ModelCheckpoint\n",
        "from keras.layers import Dense, Dropout\n",
        "from keras.models import Sequential\n",
        "from keras import initializers\n",
        "from keras.callbacks import EarlyStopping\n",
        "from keras.optimizers import Adagrad\n",
        "from keras.utils import to_categorical\n",
        "from keras.models import load_model"
      ],
      "execution_count": 0,
      "outputs": []
    },
    {
      "cell_type": "code",
      "metadata": {
        "id": "AxezPPdi1wlf",
        "colab_type": "code",
        "colab": {}
      },
      "source": [
        "label_encoder = LabelEncoder()\n",
        "label_encoder.fit(y.ravel())\n",
        "y_train_integer = label_encoder.fit_transform(y_train.ravel())\n",
        "y_test_integer = label_encoder.fit_transform(y_test.ravel())\n",
        "\n",
        "onehot_encoder = OneHotEncoder(sparse=False, categories='auto')\n",
        "y_train_onehot = onehot_encoder.fit_transform(y_train_integer.reshape(len(y_train_integer), 1))\n",
        "y_test_onehot = onehot_encoder.fit_transform(y_test_integer.reshape(len(y_test_integer), 1))"
      ],
      "execution_count": 0,
      "outputs": []
    },
    {
      "cell_type": "code",
      "metadata": {
        "id": "VdpWaqRh9MmD",
        "colab_type": "code",
        "colab": {}
      },
      "source": [
        "best_model = load_model(r'gdrive/My Drive/Mestrado/Reconhecimento de Padrões/Trabalho Final/best_model_23_06.h5')"
      ],
      "execution_count": 0,
      "outputs": []
    },
    {
      "cell_type": "code",
      "metadata": {
        "id": "vj4MTsIJ05KY",
        "colab_type": "code",
        "outputId": "1cb0bfa8-dd46-4f45-af04-3b2dfc716346",
        "colab": {
          "base_uri": "https://localhost:8080/",
          "height": 235
        }
      },
      "source": [
        "best_model.summary()"
      ],
      "execution_count": 39,
      "outputs": [
        {
          "output_type": "stream",
          "text": [
            "_________________________________________________________________\n",
            "Layer (type)                 Output Shape              Param #   \n",
            "=================================================================\n",
            "dense_813 (Dense)            (None, 384)               147840    \n",
            "_________________________________________________________________\n",
            "dropout_407 (Dropout)        (None, 384)               0         \n",
            "_________________________________________________________________\n",
            "dense_814 (Dense)            (None, 10)                3850      \n",
            "=================================================================\n",
            "Total params: 151,690\n",
            "Trainable params: 151,690\n",
            "Non-trainable params: 0\n",
            "_________________________________________________________________\n"
          ],
          "name": "stdout"
        }
      ]
    },
    {
      "cell_type": "code",
      "metadata": {
        "id": "07W2I3taOlgo",
        "colab_type": "code",
        "colab": {}
      },
      "source": [
        "y_pred = best_model.predict(X_test)"
      ],
      "execution_count": 0,
      "outputs": []
    },
    {
      "cell_type": "code",
      "metadata": {
        "id": "zGbxEwXU0c30",
        "colab_type": "code",
        "outputId": "d294c9bd-bdcc-426d-db19-1646f8a0aaee",
        "colab": {
          "base_uri": "https://localhost:8080/",
          "height": 609
        }
      },
      "source": [
        "cm_analysis(y_test_onehot.argmax(axis=1), y_pred.argmax(axis=1), 'cm_mlp.eps', np.unique(y_test_onehot.argmax(axis=1)), figsize=(10,10))"
      ],
      "execution_count": 72,
      "outputs": [
        {
          "output_type": "display_data",
          "data": {
            "image/png": "[encoded data removed]",
            "text/plain": [
              "<Figure size 720x720 with 2 Axes>"
            ]
          },
          "metadata": {
            "tags": []
          }
        }
      ]
    },
    {
      "cell_type": "code",
      "metadata": {
        "id": "3w4flw45DJG2",
        "colab_type": "code",
        "outputId": "fb23bdbf-3ebe-40d5-edf4-e99270d012c6",
        "colab": {
          "base_uri": "https://localhost:8080/",
          "height": 34
        }
      },
      "source": [
        "'CT=9, AT=3, BC=4, ABT=2, AB=0, BCT=5, BT=6, CA=7, ABC=1, CAT=8'"
      ],
      "execution_count": 0,
      "outputs": [
        {
          "output_type": "execute_result",
          "data": {
            "text/plain": [
              "'CT=9, AT=3, BC=4, ABT=2, AB=0, BCT=5, BT=6, CA=7, ABC=1, CAT=8'"
            ]
          },
          "metadata": {
            "tags": []
          },
          "execution_count": 47
        }
      ]
    }
  ]
}